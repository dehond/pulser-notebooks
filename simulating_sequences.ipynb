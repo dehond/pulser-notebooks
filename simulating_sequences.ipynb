{
 "cells": [
  {
   "cell_type": "markdown",
   "metadata": {
    "slideshow": {
     "slide_type": "slide"
    }
   },
   "source": [
    "# Simulation of Sequences"
   ]
  },
  {
   "cell_type": "code",
   "execution_count": null,
   "metadata": {
    "slideshow": {
     "slide_type": "-"
    }
   },
   "outputs": [],
   "source": [
    "import numpy as np\n",
    "import qutip\n",
    "import matplotlib.pyplot as plt\n",
    "\n",
    "import pulser\n",
    "from pulser_simulation import QutipEmulator"
   ]
  },
  {
   "cell_type": "markdown",
   "metadata": {
    "slideshow": {
     "slide_type": "slide"
    }
   },
   "source": [
    "To illustrate the simulation of sequences, let us study a simple one-dimensional system with periodic boundary conditions (a ring of atoms):"
   ]
  },
  {
   "cell_type": "code",
   "execution_count": null,
   "metadata": {
    "slideshow": {
     "slide_type": "-"
    }
   },
   "outputs": [],
   "source": [
    "# Setup\n",
    "L = 14\n",
    "\n",
    "# Define a ring of atoms distanced by a blockade radius distance:\n",
    "Omega_max = 2.3 * 2 * np.pi\n",
    "U = Omega_max / 2.3\n",
    "R_interatomic = pulser.devices.MockDevice.rydberg_blockade_radius(Omega_max)\n",
    "\n",
    "coords = (\n",
    "    R_interatomic\n",
    "    / (2 * np.tan(np.pi / L))\n",
    "    * np.array(\n",
    "        [\n",
    "            (np.cos(theta * 2 * np.pi / L), np.sin(theta * 2 * np.pi / L))\n",
    "            for theta in range(L)\n",
    "        ]\n",
    "    )\n",
    ")\n",
    "\n",
    "reg = pulser.Register.from_coordinates(coords, prefix=\"atom\")"
   ]
  },
  {
   "cell_type": "markdown",
   "metadata": {
    "slideshow": {
     "slide_type": "subslide"
    }
   },
   "source": [
    "Draw register with **half** the blockade radii. Atoms have a significant interaction if their circles overlap. Draw the graph between interacting atoms using `draw_graph`."
   ]
  },
  {
   "cell_type": "code",
   "execution_count": null,
   "metadata": {
    "slideshow": {
     "slide_type": "-"
    }
   },
   "outputs": [],
   "source": [
    "reg.draw(blockade_radius=R_interatomic, draw_half_radius=True, draw_graph=True)"
   ]
  },
  {
   "cell_type": "markdown",
   "metadata": {
    "slideshow": {
     "slide_type": "slide"
    }
   },
   "source": [
    "Use pulse sequence for preparing a state with *antiferromagnetic order*."
   ]
  },
  {
   "cell_type": "code",
   "execution_count": null,
   "metadata": {},
   "outputs": [],
   "source": [
    "delta_0 = -3 * U\n",
    "delta_f = 1 * U\n",
    "\n",
    "t_rise = 2000\n",
    "t_fall = 2000\n",
    "t_sweep = (delta_f - delta_0) / (2 * np.pi * 10) * 5000\n",
    "\n",
    "rise = pulser.Pulse.ConstantDetuning(\n",
    "    pulser.waveforms.RampWaveform(t_rise, 0.0, Omega_max), delta_0, 0.0\n",
    ")\n",
    "sweep = pulser.Pulse.ConstantAmplitude(\n",
    "    Omega_max, pulser.waveforms.RampWaveform(t_sweep, delta_0, delta_f), 0.0\n",
    ")\n",
    "fall = pulser.Pulse.ConstantDetuning(\n",
    "    pulser.waveforms.RampWaveform(t_fall, Omega_max, 0.0), delta_f, 0.0\n",
    ")\n",
    "\n",
    "seq = pulser.Sequence(reg, pulser.devices.MockDevice)\n",
    "seq.declare_channel(\"ising\", \"rydberg_global\")\n",
    "\n",
    "seq.add(rise, \"ising\")\n",
    "seq.add(sweep, \"ising\")\n",
    "seq.add(fall, \"ising\")"
   ]
  },
  {
   "cell_type": "code",
   "execution_count": null,
   "metadata": {
    "slideshow": {
     "slide_type": "subslide"
    }
   },
   "outputs": [],
   "source": [
    "seq.draw()"
   ]
  },
  {
   "cell_type": "markdown",
   "metadata": {
    "slideshow": {
     "slide_type": "-"
    }
   },
   "source": [
    "[Cf. Bernien _et al._, Nature **551**, 579–584 (2017) & Scholl _et al._, Nature **595**, 233–238 (2021)]"
   ]
  },
  {
   "cell_type": "markdown",
   "metadata": {
    "slideshow": {
     "slide_type": "slide"
    }
   },
   "source": [
    "## Running a Simulation"
   ]
  },
  {
   "cell_type": "markdown",
   "metadata": {
    "slideshow": {
     "slide_type": "-"
    }
   },
   "source": [
    "First we define our `QutipEmulator` object, which creates an internal respresentation of the quantum system, including the Hamiltonian which will drive the evolution:"
   ]
  },
  {
   "cell_type": "code",
   "execution_count": null,
   "metadata": {
    "slideshow": {
     "slide_type": "-"
    }
   },
   "outputs": [],
   "source": [
    "sim = QutipEmulator.from_sequence(seq, sampling_rate=0.1)\n",
    "results = sim.run(progress_bar=True)"
   ]
  },
  {
   "cell_type": "markdown",
   "metadata": {
    "slideshow": {
     "slide_type": "skip"
    }
   },
   "source": [
    "Notice we have included the parameter `sampling_rate` which allows us to determine how many samples from the pulse sequence we wish to simulate. In the case of the simple shapes in our sequence, only a very small fraction is needed. This largely accelerates the simulation time in the solver."
   ]
  },
  {
   "cell_type": "markdown",
   "metadata": {
    "slideshow": {
     "slide_type": "skip"
    }
   },
   "source": [
    "To run the simulation we simply apply the method `run()`. At the time of writing of this notebook, the method uses a series of routines from **QuTiP** for solving the Schröedinger equation of the system. It returns a `SimulationResults` object, which will allow the study or post-processing of the states for each time step in our simulation. Additionally, we can include a progress bar to have an estimate of how the simulation is advancing:"
   ]
  },
  {
   "cell_type": "markdown",
   "metadata": {
    "slideshow": {
     "slide_type": "slide"
    }
   },
   "source": [
    "## Exploring the `SimulationResults` object\n",
    "The `SimulationResults` object that we created contains the quantum state at each time step. We can call them using the `states` attribute.\n",
    "\n",
    "Looking at a random time:"
   ]
  },
  {
   "cell_type": "code",
   "execution_count": null,
   "metadata": {},
   "outputs": [],
   "source": [
    "results.states[23]  # Given as a `qutip.Qobj` object"
   ]
  },
  {
   "cell_type": "markdown",
   "metadata": {
    "slideshow": {
     "slide_type": "subslide"
    }
   },
   "source": [
    "We can sample the final state directly, using the `sample_final_state()` method from the `SimulationResults` object. We try it with $1000$ samples and discard the less frequent bitstrings:"
   ]
  },
  {
   "cell_type": "code",
   "execution_count": null,
   "metadata": {
    "slideshow": {
     "slide_type": "-"
    }
   },
   "outputs": [],
   "source": [
    "counts = results.sample_final_state(N_samples=1000)\n",
    "\n",
    "large_counts = {k: v for k, v in counts.items() if v > 5}\n",
    "\n",
    "plt.figure(figsize=(15, 4))\n",
    "plt.xticks(rotation=90, fontsize=14)\n",
    "plt.title(\"Most frequent observations\")\n",
    "plt.bar(large_counts.keys(), large_counts.values())"
   ]
  },
  {
   "cell_type": "markdown",
   "metadata": {
    "slideshow": {
     "slide_type": "skip"
    }
   },
   "source": [
    "Notice how the most frequent bitstrings correspond to the antiferromagnetic order states."
   ]
  },
  {
   "cell_type": "markdown",
   "metadata": {
    "slideshow": {
     "slide_type": "subslide"
    }
   },
   "source": [
    "We can learn more by evaluating operator expectation values, for instance the average magnetization:\n",
    "$$\n",
    "\\langle S_z \\rangle = \\frac{1}{L} \\sum_{i = 1}^L \\langle S_z^{(i)} \\rangle.\n",
    "$$"
   ]
  },
  {
   "cell_type": "code",
   "execution_count": null,
   "metadata": {
    "slideshow": {
     "slide_type": "-"
    }
   },
   "outputs": [],
   "source": [
    "def local_magn(i):\n",
    "    prod = L * [qutip.qeye(2)]\n",
    "    prod[i] = qutip.sigmaz()\n",
    "    return qutip.tensor(prod)\n",
    "\n",
    "magn_av = 1/L * sum([local_magn(i) for i in range(L)])"
   ]
  },
  {
   "cell_type": "code",
   "execution_count": null,
   "metadata": {
    "slideshow": {
     "slide_type": "subslide"
    }
   },
   "outputs": [],
   "source": [
    "expect_magnetization = [qutip.expect(magn_av, state) for state in results.states]\n",
    "plt.plot(sim.evaluation_times,\n",
    "        expect_magnetization)\n",
    "\n",
    "plt.xlabel(\"Time ($\\mu$s)\", fontsize = 14)\n",
    "plt.ylabel(r\"$\\langle S_z \\rangle$\", fontsize = 14)"
   ]
  },
  {
   "cell_type": "markdown",
   "metadata": {
    "slideshow": {
     "slide_type": "slide"
    }
   },
   "source": [
    "### Correlations\n",
    "Define the correlation as\n",
    "$$\n",
    "\\mathcal{C} = \\frac{1}{L} \\sum_{i=1}^{L} \\left[\\langle S_i S_{i + 1} \\rangle - \\langle S_i \\rangle \\langle S_{i + 1} \\rangle \\right].\n",
    "$$\n",
    "Then we have Néel (anti-ferromagnetic) order if $\\mathcal{C} < 0$."
   ]
  },
  {
   "cell_type": "code",
   "execution_count": null,
   "metadata": {
    "slideshow": {
     "slide_type": "-"
    }
   },
   "outputs": [],
   "source": [
    "def neel(i, j):\n",
    "    prod = L * [qutip.qeye(2)]\n",
    "    prod[i] = qutip.sigmaz()\n",
    "    prod[j] = qutip.sigmaz()\n",
    "    return qutip.tensor(prod)\n",
    "\n",
    "neel_av = 1/L * sum([neel(i, (i + 1) % L) for i in range(L)])\n",
    "order_parameter = [qutip.expect(neel_av, state) - qutip.expect(magn_av, state)**2 for state in results.states]"
   ]
  },
  {
   "cell_type": "code",
   "execution_count": null,
   "metadata": {
    "slideshow": {
     "slide_type": "subslide"
    }
   },
   "outputs": [],
   "source": [
    "plt.plot(sim.evaluation_times,\n",
    "         order_parameter)\n",
    "plt.xlabel(\"Time ($\\mu$s)\", fontsize = 14)\n",
    "plt.ylabel(r\"$\\mathcal{C}$\", fontsize = 20)"
   ]
  },
  {
   "cell_type": "markdown",
   "metadata": {
    "slideshow": {
     "slide_type": "subslide"
    }
   },
   "source": [
    "### Further study?\n",
    "- Correlation length\n",
    "- How all this changes as a function of sweep speed (slower should be better)."
   ]
  }
 ],
 "metadata": {
  "celltoolbar": "Slideshow",
  "kernelspec": {
   "display_name": "Pulser",
   "language": "python",
   "name": "pulser"
  },
  "language_info": {
   "codemirror_mode": {
    "name": "ipython",
    "version": 3
   },
   "file_extension": ".py",
   "mimetype": "text/x-python",
   "name": "python",
   "nbconvert_exporter": "python",
   "pygments_lexer": "ipython3",
   "version": "3.10.7"
  }
 },
 "nbformat": 4,
 "nbformat_minor": 4
}
