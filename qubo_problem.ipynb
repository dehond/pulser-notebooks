{
 "cells": [
  {
   "cell_type": "markdown",
   "metadata": {
    "slideshow": {
     "slide_type": "slide"
    }
   },
   "source": [
    "# Solving a QUBO problem\n",
    "Solve a Quadratic Unconstrained Binary Optimization (QUBO) problem using Rydberg atoms in analog mode.\n",
    "\n",
    "Of interest for, e.g.:\n",
    "- Finance [cf. Leclerc _et al._, Phys. Rev. Research **5**, 043117 (2023)]\n",
    "- Scheduling problems\n",
    "- Graph-based problems\n",
    "\n",
    "Formulation: given an $N \\times N$ matrix $Q$, find vector $z \\in \\mathbb{Z}_2^n$ that minimizes\n",
    "$$\n",
    "f(z) = z^T Q z\n",
    "$$\n",
    "\n",
    "Let's use two algorithms: **quantum approximate optimization algorithm (QAOA)** and **adiabatic quantum computing**."
   ]
  },
  {
   "cell_type": "code",
   "execution_count": null,
   "metadata": {
    "slideshow": {
     "slide_type": "slide"
    }
   },
   "outputs": [],
   "source": [
    "import numpy as np\n",
    "import matplotlib.pyplot as plt\n",
    "from pulser import Pulse, Sequence, Register\n",
    "from pulser_simulation import QutipEmulator\n",
    "from pulser.devices import DigitalAnalogDevice\n",
    "from pulser.waveforms import InterpolatedWaveform\n",
    "from scipy.optimize import minimize\n",
    "from scipy.spatial.distance import pdist, squareform"
   ]
  },
  {
   "cell_type": "markdown",
   "metadata": {
    "slideshow": {
     "slide_type": "slide"
    }
   },
   "source": [
    "Suppose we are given the following QUBO matrix $Q$:"
   ]
  },
  {
   "cell_type": "code",
   "execution_count": null,
   "metadata": {},
   "outputs": [],
   "source": [
    "Q = np.array(\n",
    "    [\n",
    "        [-10.0, 19.7365809, 19.7365809, 5.42015853, 5.42015853],\n",
    "        [19.7365809, -10.0, 20.67626392, 0.17675796, 0.85604541],\n",
    "        [19.7365809, 20.67626392, -10.0, 0.85604541, 0.17675796],\n",
    "        [5.42015853, 0.17675796, 0.85604541, -10.0, 0.32306662],\n",
    "        [5.42015853, 0.85604541, 0.17675796, 0.32306662, -10.0],\n",
    "    ]\n",
    ")"
   ]
  },
  {
   "cell_type": "markdown",
   "metadata": {
    "slideshow": {
     "slide_type": "subslide"
    }
   },
   "source": [
    "This is a small problem, there are $2^5 = 32$ candidate solutions. We first check them manually:"
   ]
  },
  {
   "cell_type": "code",
   "execution_count": null,
   "metadata": {},
   "outputs": [],
   "source": [
    "bitstrings = [np.binary_repr(i, len(Q)) for i in range(2 ** len(Q))]\n",
    "costs = []\n",
    "# this takes exponential time with the dimension of the QUBO\n",
    "for b in bitstrings:\n",
    "    z = np.array(list(b), dtype=int)\n",
    "    cost = z.T @ Q @ z\n",
    "    costs.append(cost)\n",
    "zipped = zip(bitstrings, costs)\n",
    "sort_zipped = sorted(zipped, key=lambda x: x[1])\n",
    "print(sort_zipped[:3])"
   ]
  },
  {
   "cell_type": "markdown",
   "metadata": {
    "slideshow": {
     "slide_type": "slide"
    }
   },
   "source": [
    "### Embedding a QUBO onto an atomic register\n",
    "How to choose atom positions $r_i$ such that the interaction matrix $U_{ij} = C_6/|r_i - r_j|^6$ approximates the off-diagonal elements of Q?\n",
    "\n",
    "Try optimization:"
   ]
  },
  {
   "cell_type": "code",
   "execution_count": null,
   "metadata": {},
   "outputs": [],
   "source": [
    "def evaluate_mapping(new_coords, *args):\n",
    "    \"\"\"Cost function to minimize. Ideally, the pairwise\n",
    "    distances are conserved\"\"\"\n",
    "    Q, shape = args\n",
    "    new_coords = np.reshape(new_coords, shape)\n",
    "    new_Q = squareform(\n",
    "        DigitalAnalogDevice.interaction_coeff / pdist(new_coords) ** 6\n",
    "    )\n",
    "    return np.linalg.norm(new_Q - Q)"
   ]
  },
  {
   "cell_type": "code",
   "execution_count": null,
   "metadata": {
    "slideshow": {
     "slide_type": "subslide"
    }
   },
   "outputs": [],
   "source": [
    "shape = (len(Q), 2)\n",
    "costs = []\n",
    "np.random.seed(0)\n",
    "x0 = np.random.random(shape).flatten()\n",
    "res = minimize(\n",
    "    evaluate_mapping,\n",
    "    x0,\n",
    "    args=(Q, shape),\n",
    "    method=\"Nelder-Mead\",\n",
    "    tol=1e-6,\n",
    "    options={\"maxiter\": 200000, \"maxfev\": None},\n",
    ")\n",
    "coords = np.reshape(res.x, (len(Q), 2))"
   ]
  },
  {
   "cell_type": "markdown",
   "metadata": {
    "slideshow": {
     "slide_type": "subslide"
    }
   },
   "source": [
    "How did we do?"
   ]
  },
  {
   "cell_type": "code",
   "execution_count": null,
   "metadata": {},
   "outputs": [],
   "source": [
    "squareform(DigitalAnalogDevice.interaction_coeff / pdist(coords)**6)"
   ]
  },
  {
   "cell_type": "code",
   "execution_count": null,
   "metadata": {},
   "outputs": [],
   "source": [
    "Q - np.diag(np.diag(Q))"
   ]
  },
  {
   "cell_type": "markdown",
   "metadata": {},
   "source": [
    "What a coincidence!"
   ]
  },
  {
   "cell_type": "markdown",
   "metadata": {
    "slideshow": {
     "slide_type": "subslide"
    }
   },
   "source": [
    "Let's look at the `Register`:"
   ]
  },
  {
   "cell_type": "code",
   "execution_count": null,
   "metadata": {},
   "outputs": [],
   "source": [
    "qubits = dict(enumerate(coords))\n",
    "reg = Register(qubits)\n",
    "reg.draw(\n",
    "    blockade_radius=DigitalAnalogDevice.rydberg_blockade_radius(1.0),\n",
    "    draw_graph=False,\n",
    "    draw_half_radius=True,\n",
    ")"
   ]
  },
  {
   "cell_type": "markdown",
   "metadata": {
    "slideshow": {
     "slide_type": "slide"
    }
   },
   "source": [
    "## Building the quantum algorithm \n",
    "\n",
    "We peprare the following Ising Hamiltonian $H_Q$:\n",
    "\n",
    "$$ H_Q= \\sum_{i=1}^N \\frac{\\hbar\\Omega}{2} \\sigma_i^x - \\sum_{i=1}^N \\frac{\\hbar \\delta}{2} \\sigma_i^z+\\sum_{j \\lt i}\\frac{C_6}{|\\textbf{r}_i-\\textbf{r}_j|^{6}} n_i n_j. $$\n",
    "\n",
    "In our example the interaction term perfectly represents the off-diagonal elements of $Q$. The next step is to prepare the ground-state of $H_Q$ to output the optimal bitstrings."
   ]
  },
  {
   "cell_type": "markdown",
   "metadata": {
    "slideshow": {
     "slide_type": "slide"
    }
   },
   "source": [
    "### QAOA\n",
    "- All atoms are initially in the groundstate $|00\\dots0\\rangle$ of the `ground-rydberg` basis.\n",
    "- Apply $p$ layers of alternating, non-commutative Hamiltonians. The first one, called the mixing Hamiltonian $H_M$, has $\\Omega = 1$ rad/µs, and $\\delta = 0$ rad/µs.\n",
    "- The second Hamiltonian $H_Q$ has $\\Omega =0$ rad/µs and $\\delta = 1$ rad/µs.\n",
    "- $H_M$ and $H_Q$ are applied turn in turn with parameters $\\tau$ and $t$ respectively. A classical optimizer is then used to estimate the optimal parameters. \n"
   ]
  },
  {
   "cell_type": "markdown",
   "metadata": {
    "slideshow": {
     "slide_type": "subslide"
    }
   },
   "source": [
    "New ingredient: the parametrized `Sequence` for easier optimization:"
   ]
  },
  {
   "cell_type": "code",
   "execution_count": null,
   "metadata": {},
   "outputs": [],
   "source": [
    "LAYERS = 2\n",
    "\n",
    "# Parametrized sequence\n",
    "seq = Sequence(reg, DigitalAnalogDevice)\n",
    "seq.declare_channel(\"ch0\", \"rydberg_global\")\n",
    "\n",
    "t_list = seq.declare_variable(\"t_list\", size=LAYERS)\n",
    "s_list = seq.declare_variable(\"s_list\", size=LAYERS)\n",
    "\n",
    "for t, s in zip(t_list, s_list):\n",
    "    pulse_1 = Pulse.ConstantPulse(1000 * t, 1.0, 0.0, 0)\n",
    "    pulse_2 = Pulse.ConstantPulse(1000 * s, 0.0, 1.0, 0)\n",
    "\n",
    "    seq.add(pulse_1, \"ch0\")\n",
    "    seq.add(pulse_2, \"ch0\")\n",
    "\n",
    "seq.measure(\"ground-rydberg\")"
   ]
  },
  {
   "cell_type": "markdown",
   "metadata": {
    "slideshow": {
     "slide_type": "subslide"
    }
   },
   "source": [
    "Once we have the parameters that we want to apply, we use the `.build()` method to assign these values into a `assigned_seq` sequence. It is this sequence which is simulated every time the quantum loop is called."
   ]
  },
  {
   "cell_type": "code",
   "execution_count": null,
   "metadata": {},
   "outputs": [],
   "source": [
    "s = seq.build(t_list = [1, 1.5],\n",
    "              s_list = [0.5, 1])\n",
    "s.draw()"
   ]
  },
  {
   "cell_type": "markdown",
   "metadata": {
    "slideshow": {
     "slide_type": "subslide"
    }
   },
   "source": [
    "Experimentally, we can't access the state vector $|\\psi\\rangle$. Instead we take samples, here emulated using the built-in method `results.sample_final_state()`, in which we specify the number of samples desired (defaults to 1000)."
   ]
  },
  {
   "cell_type": "code",
   "execution_count": null,
   "metadata": {},
   "outputs": [],
   "source": [
    "def quantum_loop(parameters):\n",
    "    params = np.array(parameters)\n",
    "    t_params, s_params = np.reshape(params.astype(int), (2, LAYERS))\n",
    "    assigned_seq = seq.build(t_list=t_params, s_list=s_params)\n",
    "    simul = QutipEmulator.from_sequence(assigned_seq, sampling_rate=0.01)\n",
    "    results = simul.run()\n",
    "    count_dict = results.sample_final_state()  # sample from the state vector\n",
    "    return count_dict"
   ]
  },
  {
   "cell_type": "code",
   "execution_count": null,
   "metadata": {},
   "outputs": [],
   "source": [
    "np.random.seed(123)  # ensures reproducibility of the tutorial\n",
    "guess = {\n",
    "    \"t\": np.random.uniform(8, 10, LAYERS),\n",
    "    \"s\": np.random.uniform(1, 3, LAYERS),\n",
    "}"
   ]
  },
  {
   "cell_type": "markdown",
   "metadata": {
    "slideshow": {
     "slide_type": "subslide"
    }
   },
   "source": [
    "Let's look at the samples, note it changes every time its run."
   ]
  },
  {
   "cell_type": "code",
   "execution_count": null,
   "metadata": {
    "slideshow": {
     "slide_type": "-"
    }
   },
   "outputs": [],
   "source": [
    "example_dict = quantum_loop(np.r_[guess[\"t\"], guess[\"s\"]])\n",
    "example_dict"
   ]
  },
  {
   "cell_type": "code",
   "execution_count": null,
   "metadata": {
    "slideshow": {
     "slide_type": "subslide"
    }
   },
   "outputs": [],
   "source": [
    "def plot_distribution(C):\n",
    "    C = dict(sorted(C.items(), key=lambda item: item[1], reverse=True))\n",
    "    indexes = [\"01011\", \"00111\"]  # QUBO solutions\n",
    "    color_dict = {key: \"r\" if key in indexes else \"g\" for key in C}\n",
    "    plt.figure(figsize=(12, 6))\n",
    "    plt.xlabel(\"bitstrings\")\n",
    "    plt.ylabel(\"counts\")\n",
    "    plt.bar(C.keys(), C.values(), width=0.5, color=color_dict.values())\n",
    "    plt.xticks(rotation=\"vertical\")\n",
    "    plt.show()\n",
    "    \n",
    "plot_distribution(example_dict)"
   ]
  },
  {
   "cell_type": "markdown",
   "metadata": {},
   "source": [
    "The bitstrings `01011` and `00111` (in red) correspond to the two optimal solutions (calculated at the beginning of the notebook). The goal of QAOA is to choregraph interferences between the basis states, in order to maximize the frequency of the optimal solution states. "
   ]
  },
  {
   "cell_type": "markdown",
   "metadata": {
    "slideshow": {
     "slide_type": "slide"
    }
   },
   "source": [
    "## Optimization \n",
    "Calculate the average (expectation value) of the cost function over a set of measurements:"
   ]
  },
  {
   "cell_type": "code",
   "execution_count": null,
   "metadata": {},
   "outputs": [],
   "source": [
    "def get_cost_colouring(bitstring, Q):\n",
    "    z = np.array(list(bitstring), dtype=int)\n",
    "    cost = z.T @ Q @ z\n",
    "    return cost\n",
    "\n",
    "def get_cost(counter, Q):\n",
    "    cost = sum(counter[key] * get_cost_colouring(key, Q) for key in counter)\n",
    "    return cost / sum(counter.values())  # Divide by total samples\n",
    "\n",
    "get_cost(example_dict, Q)"
   ]
  },
  {
   "cell_type": "markdown",
   "metadata": {
    "slideshow": {
     "slide_type": "subslide"
    }
   },
   "source": [
    "To perform a minimization loop, we define the following function that will be called at each step by SciPy. `*args` enables to pass the QUBO value, and `params` contains the trial value to score, which changes at each step."
   ]
  },
  {
   "cell_type": "code",
   "execution_count": null,
   "metadata": {},
   "outputs": [],
   "source": [
    "def func(param, *args):\n",
    "    Q = args[0]\n",
    "    C = quantum_loop(param)\n",
    "    cost = get_cost(C, Q)\n",
    "    return cost"
   ]
  },
  {
   "cell_type": "markdown",
   "metadata": {
    "slideshow": {
     "slide_type": "subslide"
    }
   },
   "source": [
    "### QAOA for depth $p = 2$\n",
    "We now use a classical optimizer (`minimize`, from `scipy`) in order to find the best variational parameters. We repeat the optimization a number of times and select the parameters that yield the best approximation ratio."
   ]
  },
  {
   "cell_type": "code",
   "execution_count": null,
   "metadata": {},
   "outputs": [],
   "source": [
    "scores = []\n",
    "params = []\n",
    "\n",
    "np.random.seed(42+2)\n",
    "for repetition in range(10):\n",
    "    guess = {\n",
    "        \"t\": np.random.uniform(1, 10, LAYERS),\n",
    "        \"s\": np.random.uniform(1, 10, LAYERS),\n",
    "    }\n",
    "\n",
    "    try:\n",
    "        res = minimize(\n",
    "            func,\n",
    "            args=Q,\n",
    "            x0=np.r_[guess[\"t\"], guess[\"s\"]],  # Concatenate w/ numpy witchcraft \n",
    "            method=\"Nelder-Mead\",\n",
    "            tol=1e-5,\n",
    "            options={\"maxiter\": 10},\n",
    "        )\n",
    "        scores.append(res.fun)\n",
    "        params.append(res.x)\n",
    "    except Exception as e:\n",
    "        pass"
   ]
  },
  {
   "cell_type": "markdown",
   "metadata": {
    "slideshow": {
     "slide_type": "subslide"
    }
   },
   "source": [
    "Here's the sample we obtained using the optimal variational parameters:"
   ]
  },
  {
   "cell_type": "code",
   "execution_count": null,
   "metadata": {},
   "outputs": [],
   "source": [
    "optimal_count_dict = quantum_loop(params[np.argmin(scores)])\n",
    "plot_distribution(optimal_count_dict)"
   ]
  },
  {
   "cell_type": "markdown",
   "metadata": {
    "slideshow": {
     "slide_type": "skip"
    }
   },
   "source": [
    "However, using QAOA to solve the problem is not the best idea; it's difficult to yield a >90% quality solution without going to high depths of the QAOA, implying that the growing closed-loop optimization can rapidly become expensive, with no guarantee of convergence. We therefore propose another approach called the Quantum Adiabatic Algorithm (QAA). This fast, reliant and exclusively analog method shows optimal convergence to the solution."
   ]
  },
  {
   "cell_type": "markdown",
   "metadata": {
    "slideshow": {
     "slide_type": "slide"
    }
   },
   "source": [
    "## Adiabatic quantum computing\n",
    "[Also see [Albash, Lidar, 2018](https://arxiv.org/pdf/1611.04471.pdf)]\n",
    "\n",
    "The idea is to slowly evolve the system from an easy-to-prepare ground state to the ground state of $H_Q$. If done adiabatically, the system stays in the instantaneous ground state.\n",
    "\n",
    "To ensure that we are not exciting the system to highly-excited states, we keep $\\Omega \\in [0, \\Omega_{\\text{max}}]$, and choose $\\Omega_{\\text{max}}$ as the median of the values of Q to ensures that the adiabatic path is efficient."
   ]
  },
  {
   "cell_type": "markdown",
   "metadata": {
    "slideshow": {
     "slide_type": "skip"
    }
   },
   "source": [
    "In our case, we continuously vary the parameters $\\Omega(t), \\delta(t)$ in time, starting with $\\Omega(0)=0, \\delta(0)<0$ and ending with $\\Omega(0)=0, \\delta>0$. The ground-state of $H(0)$ corresponds to the initial state $|00000\\rangle$ and the ground-state of $H(t_f)$ corresponds to the ground-state of $H_Q$."
   ]
  },
  {
   "cell_type": "code",
   "execution_count": null,
   "metadata": {
    "slideshow": {
     "slide_type": "subslide"
    }
   },
   "outputs": [],
   "source": [
    "# We choose a median value between the min and the max\n",
    "Omega = np.median(Q[Q > 0].flatten())\n",
    "delta_0 = -5  # just has to be negative\n",
    "delta_f = -delta_0  # just has to be positive\n",
    "T = 4000  # time in ns, we choose a time long enough to ensure the propagation of information in the system"
   ]
  },
  {
   "cell_type": "code",
   "execution_count": null,
   "metadata": {},
   "outputs": [],
   "source": [
    "adiabatic_pulse = Pulse(\n",
    "    InterpolatedWaveform(T, [1e-9, Omega, 1e-9]),\n",
    "    InterpolatedWaveform(T, [delta_0, 0, delta_f]),\n",
    "    0,\n",
    ")\n",
    "seq = Sequence(reg, DigitalAnalogDevice)\n",
    "seq.declare_channel(\"ising\", \"rydberg_global\")\n",
    "seq.add(adiabatic_pulse, \"ising\")\n",
    "seq.draw()"
   ]
  },
  {
   "cell_type": "code",
   "execution_count": null,
   "metadata": {
    "slideshow": {
     "slide_type": "subslide"
    }
   },
   "outputs": [],
   "source": [
    "simul = QutipEmulator.from_sequence(seq)\n",
    "results = simul.run()\n",
    "final = results.get_final_state()\n",
    "count_dict = results.sample_final_state()"
   ]
  },
  {
   "cell_type": "code",
   "execution_count": null,
   "metadata": {},
   "outputs": [],
   "source": [
    "plot_distribution(count_dict)"
   ]
  },
  {
   "cell_type": "markdown",
   "metadata": {
    "slideshow": {
     "slide_type": "skip"
    }
   },
   "source": [
    "See how fast and performant this method is! In only a few micro-seconds, we find an excellent solution."
   ]
  },
  {
   "cell_type": "markdown",
   "metadata": {
    "slideshow": {
     "slide_type": "subslide"
    }
   },
   "source": [
    "### How does the time evolution affect the quality of the results?"
   ]
  },
  {
   "cell_type": "code",
   "execution_count": null,
   "metadata": {},
   "outputs": [],
   "source": [
    "cost = []\n",
    "for T in 1000 * np.linspace(1, 10, 10):\n",
    "    seq = Sequence(reg, DigitalAnalogDevice)\n",
    "    seq.declare_channel(\"ising\", \"rydberg_global\")\n",
    "    adiabatic_pulse = Pulse(\n",
    "        InterpolatedWaveform(T, [1e-9, Omega, 1e-9]),\n",
    "        InterpolatedWaveform(T, [delta_0, 0, delta_f]),\n",
    "        0,\n",
    "    )\n",
    "    seq.add(adiabatic_pulse, \"ising\")\n",
    "    simul = QutipEmulator.from_sequence(seq)\n",
    "    results = simul.run()\n",
    "    final = results.get_final_state()\n",
    "    count_dict = results.sample_final_state()\n",
    "    cost.append(get_cost(count_dict, Q) / 3)"
   ]
  },
  {
   "cell_type": "code",
   "execution_count": null,
   "metadata": {},
   "outputs": [],
   "source": [
    "plt.figure(figsize=(12, 6))\n",
    "plt.plot(range(1, 11), np.array(cost), \"--o\")\n",
    "plt.xlabel(\"total time evolution (µs)\", fontsize=14)\n",
    "plt.ylabel(\"cost\", fontsize=14)\n",
    "plt.show()"
   ]
  }
 ],
 "metadata": {
  "celltoolbar": "Slideshow",
  "interpreter": {
   "hash": "949777d72b0d2535278d3dc13498b2535136f6dfe0678499012e853ee9abcab1"
  },
  "kernelspec": {
   "display_name": "Pulser",
   "language": "python",
   "name": "pulser"
  },
  "language_info": {
   "codemirror_mode": {
    "name": "ipython",
    "version": 3
   },
   "file_extension": ".py",
   "mimetype": "text/x-python",
   "name": "python",
   "nbconvert_exporter": "python",
   "pygments_lexer": "ipython3",
   "version": "3.10.7"
  },
  "vscode": {
   "interpreter": {
    "hash": "e088768f7ff7b4294439f8ed10f7eed9e3b885124bc20d9d06cc2a37b1883330"
   }
  }
 },
 "nbformat": 4,
 "nbformat_minor": 2
}
