{
 "cells": [
  {
   "cell_type": "markdown",
   "id": "bd6920b3",
   "metadata": {
    "slideshow": {
     "slide_type": "slide"
    }
   },
   "source": [
    "# Overview\n",
    "## Notebooks we'll look at\n",
    "- Quick introduction via the Rydberg blockade\n",
    "- A closer look at simulating sequences"
   ]
  },
  {
   "cell_type": "markdown",
   "id": "08bce46c",
   "metadata": {
    "slideshow": {
     "slide_type": "skip"
    }
   },
   "source": [
    "# Todo\n",
    "- Add calculation of AF order parameter to simulation notebook?"
   ]
  },
  {
   "cell_type": "code",
   "execution_count": null,
   "id": "aca3df0b",
   "metadata": {},
   "outputs": [],
   "source": []
  }
 ],
 "metadata": {
  "celltoolbar": "Slideshow",
  "kernelspec": {
   "display_name": "Pulser",
   "language": "python",
   "name": "pulser"
  },
  "language_info": {
   "codemirror_mode": {
    "name": "ipython",
    "version": 3
   },
   "file_extension": ".py",
   "mimetype": "text/x-python",
   "name": "python",
   "nbconvert_exporter": "python",
   "pygments_lexer": "ipython3",
   "version": "3.10.7"
  }
 },
 "nbformat": 4,
 "nbformat_minor": 5
}
